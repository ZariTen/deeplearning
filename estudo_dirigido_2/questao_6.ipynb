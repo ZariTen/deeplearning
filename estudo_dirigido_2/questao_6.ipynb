{
 "cells": [
  {
   "cell_type": "markdown",
   "metadata": {},
   "source": [
    "### Questão 6: Realizar as seguintes modificações no modelo DeeperGoogLeNet:\n",
    "#### a) Modifique o conv_module para colocar o Banch Normalization após a função Relu: CONV => RELU => BN, ao invés da ordem atual: CONV => BN => RELU.\n",
    "#### b) Experimente usar as funções ELU, Swish e Mish no lugar da função Relu. Compare e comente os resultados obtidos em relação ao relatório seguinte: https://wandb.ai/shweta/Activation Functions/reports/Activation-Functions-Compared-With-Experiments--VmlldzoxMDQwOTQ"
   ]
  }
 ],
 "metadata": {
  "kernelspec": {
   "display_name": "Python 3.10.8 64-bit",
   "language": "python",
   "name": "python3"
  },
  "language_info": {
   "name": "python",
   "version": "3.10.8"
  },
  "orig_nbformat": 4,
  "vscode": {
   "interpreter": {
    "hash": "e7370f93d1d0cde622a1f8e1c04877d8463912d04d973331ad4851f04de6915a"
   }
  }
 },
 "nbformat": 4,
 "nbformat_minor": 2
}
