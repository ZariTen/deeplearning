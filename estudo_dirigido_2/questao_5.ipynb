{
 "cells": [
  {
   "cell_type": "markdown",
   "metadata": {},
   "source": [
    "### Questão 5: Alterar a arquitetura ResNet \"convolution, batch normalization, ReLu\" para \"batch normalization, ReLu, convolution\". Comparar se há diferença no desempenho da rede."
   ]
  },
  {
   "cell_type": "code",
   "execution_count": null,
   "metadata": {},
   "outputs": [],
   "source": [
    "import tensorflow as tf\n",
    "from d2l import tensorflow as d2l\n",
    "\n",
    "class ResNet(d2l.Classifier):\n",
    "    def b1(self):\n",
    "        return tf.keras.models.Sequential([\n",
    "            tf.keras.layers.Conv2D(64, kernel_size=7, strides=2,\n",
    "                                   padding='same'),\n",
    "            tf.keras.layers.BatchNormalization(),\n",
    "            tf.keras.layers.Activation('relu')])\n",
    "\n",
    "class ResNetMod(d2l.Classifier):\n",
    "    def b1(self):\n",
    "        return tf.keras.models.Sequential([\n",
    "            tf.keras.layers.BatchNormalization(),\n",
    "            tf.keras.layers.Activation('relu'),\n",
    "            tf.keras.layers.Conv2D(64, kernel_size=7, strides=2,\n",
    "                                      padding='same')])"
   ]
  }
 ],
 "metadata": {
  "kernelspec": {
   "display_name": "Python 3.10.8 64-bit",
   "language": "python",
   "name": "python3"
  },
  "language_info": {
   "name": "python",
   "version": "3.10.8"
  },
  "orig_nbformat": 4,
  "vscode": {
   "interpreter": {
    "hash": "e7370f93d1d0cde622a1f8e1c04877d8463912d04d973331ad4851f04de6915a"
   }
  }
 },
 "nbformat": 4,
 "nbformat_minor": 2
}
