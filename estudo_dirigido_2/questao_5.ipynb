{
  "cells": [
    {
      "cell_type": "markdown",
      "metadata": {},
      "source": [
        "### Questão 5: Alterar a arquitetura ResNet \"convolution, batch normalization, ReLu\" para \"batch normalization, ReLu, convolution\". Comparar se há diferença no desempenho da rede."
      ]
    },
    {
      "cell_type": "code",
      "execution_count": null,
      "metadata": {
        "id": "18VNjcPfxX8A"
      },
      "outputs": [],
      "source": [
        " !pip install d2l==1.0.0-alpha1.post0 "
      ]
    },
    {
      "cell_type": "code",
      "execution_count": null,
      "metadata": {
        "colab": {
          "base_uri": "https://localhost:8080/"
        },
        "id": "esz-CPpGxEiZ",
        "outputId": "2bab2aea-e44f-4be7-e915-45e50dcb1e02"
      },
      "outputs": [
        {
          "name": "stdout",
          "output_type": "stream",
          "text": [
            "Found GPU at: /device:GPU:0\n"
          ]
        }
      ],
      "source": [
        "import tensorflow as tf\n",
        "from d2l import tensorflow as d2l\n",
        "from keras.datasets import cifar10\n",
        "import numpy as np\n",
        "\n",
        "device_name = tf.test.gpu_device_name()\n",
        "if \"GPU\" not in device_name:\n",
        "    print(\"GPU device not found\")\n",
        "print('Found GPU at: {}'.format(device_name))\n",
        "\n",
        "def convolutional_block(x, filter):\n",
        "    \n",
        "    # copy tensor to variable called x_skip\n",
        "    x_skip = x\n",
        "    \n",
        "    # Layer 1\n",
        "    x = tf.keras.layers.Conv2D(filter, (3,3), padding = 'same', strides = (2,2))(x)\n",
        "    x = tf.keras.layers.BatchNormalization(axis=3)(x)\n",
        "    x = tf.keras.layers.Activation('relu')(x)\n",
        "    \n",
        "    # Layer 2\n",
        "    x = tf.keras.layers.Conv2D(filter, (3,3), padding = 'same')(x)\n",
        "    x = tf.keras.layers.BatchNormalization(axis=3)(x)\n",
        "    \n",
        "    # Processing Residue with conv(1,1)\n",
        "    x_skip = tf.keras.layers.Conv2D(filter, (1,1), strides = (2,2))(x_skip)\n",
        "    \n",
        "    # Add Residue\n",
        "    x = tf.keras.layers.Add()([x, x_skip])     \n",
        "    x = tf.keras.layers.Activation('relu')(x)\n",
        "    \n",
        "    return x\n",
        "\n",
        "def identity_block(x, filter):\n",
        "    \n",
        "    # copy tensor to variable called x_skip\n",
        "    x_skip = x\n",
        "    \n",
        "    # Layer 1\n",
        "    x = tf.keras.layers.Conv2D(filter, (3,3), padding = 'same')(x)\n",
        "    x = tf.keras.layers.BatchNormalization(axis=3)(x)\n",
        "    x = tf.keras.layers.Activation('relu')(x)\n",
        "    \n",
        "    # Layer 2\n",
        "    x = tf.keras.layers.Conv2D(filter, (3,3), padding = 'same')(x)\n",
        "    x = tf.keras.layers.BatchNormalization(axis=3)(x)\n",
        "    \n",
        "    # Add Residue\n",
        "    x = tf.keras.layers.Add()([x, x_skip])     \n",
        "    x = tf.keras.layers.Activation('relu')(x)\n",
        "    \n",
        "    return x"
      ]
    },
    {
      "cell_type": "code",
      "execution_count": null,
      "metadata": {
        "id": "VkIo8Bc_mmJJ"
      },
      "outputs": [],
      "source": [
        "def ResNet34(shape = (32, 32, 3), classes = 10):\n",
        "  \n",
        "    # Step 1 (Setup Input Layer)\n",
        "    x_input = tf.keras.layers.Input(shape)\n",
        "    x = tf.keras.layers.ZeroPadding2D((3, 3))(x_input)\n",
        "    \n",
        "    # Step 2 (Initial Conv layer along with maxPool)\n",
        "    x = tf.keras.layers.Conv2D(64, kernel_size=7, strides=2, padding='same')(x)\n",
        "    x = tf.keras.layers.BatchNormalization()(x)\n",
        "    x = tf.keras.layers.Activation('relu')(x)\n",
        "    x = tf.keras.layers.MaxPool2D(pool_size=3, strides=2, padding='same')(x)\n",
        "    \n",
        "    # Define size of sub-blocks and initial filter size\n",
        "    block_layers = [3, 4, 6, 3]\n",
        "    filter_size = 64\n",
        "    \n",
        "    # Step 3 Add the Resnet Blocks\n",
        "    for i in range(4):\n",
        "        if i == 0:\n",
        "            # For sub-block 1 Residual/Convolutional block not needed\n",
        "            for j in range(block_layers[i]):\n",
        "                x = identity_block(x, filter_size)\n",
        "        else:\n",
        "            # One Residual/Convolutional Block followed by Identity blocks\n",
        "            filter_size = filter_size*2\n",
        "            x = convolutional_block(x, filter_size)\n",
        "            for j in range(block_layers[i] - 1):\n",
        "                x = identity_block(x, filter_size)\n",
        "          \n",
        "    # Step 4 End Dense Network\n",
        "    x = tf.keras.layers.AveragePooling2D((2,2), padding = 'same')(x)\n",
        "    x = tf.keras.layers.Flatten()(x)\n",
        "    x = tf.keras.layers.Dense(512, activation = 'relu')(x)\n",
        "    x = tf.keras.layers.Dense(classes, activation = 'softmax')(x)\n",
        "    \n",
        "    model = tf.keras.models.Model(inputs = x_input, outputs = x, name = \"ResNet34\")\n",
        "    return model"
      ]
    },
    {
      "cell_type": "code",
      "execution_count": null,
      "metadata": {
        "colab": {
          "base_uri": "https://localhost:8080/"
        },
        "id": "KZKhbC95iZnB",
        "outputId": "937fac47-6f70-4484-9350-eab644af973c"
      },
      "outputs": [
        {
          "name": "stdout",
          "output_type": "stream",
          "text": [
            "Train: X= (50000, 32, 32, 3), y= (50000, 1)\n",
            "Test: X=(10000, 32, 32, 3), y=(10000, 1)\n",
            "uint8 uint8\n"
          ]
        }
      ],
      "source": [
        "# load dataset\n",
        "(x_train, y_train), (x_test, y_test) = cifar10.load_data()\n",
        "# summarize loaded dataset\n",
        "print(f'Train: X= {x_train.shape}, y= {y_train.shape}')\n",
        "print(f'Test: X={x_test.shape}, y={y_test.shape}')\n",
        "\n",
        "print(x_train.dtype, x_test.dtype)\n",
        "# Normalizing data \n",
        "# As the Data is of type uint8 we will convert it to Float\n",
        "x_train = x_train.astype(float)\n",
        "x_test = x_test.astype(float)\n",
        "x_train = x_train/255.0\n",
        "x_test = x_test/255.0\n",
        "\n",
        "# Shuffle first (optional)\n",
        "idx = np.arange(len(x_train))\n",
        "np.random.shuffle(idx)\n",
        "\n",
        "# get first 10% of data\n",
        "x_train = x_train[:int(.10*len(idx))]\n",
        "y_train = y_train[:int(.10*len(idx))]\n",
        "x_test = x_test[:int(.10*len(idx))]\n",
        "y_test = y_test[:int(.10*len(idx))]"
      ]
    },
    {
      "cell_type": "code",
      "execution_count": null,
      "metadata": {
        "colab": {
          "base_uri": "https://localhost:8080/"
        },
        "id": "SvIil1MRj8yi",
        "outputId": "df0e9d40-f1c9-4fc9-fd00-b412a8f7cf22"
      },
      "outputs": [
        {
          "name": "stdout",
          "output_type": "stream",
          "text": [
            "Epoch 1/5\n",
            "157/157 [==============================] - 12s 54ms/step - loss: 2.1409 - accuracy: 0.2384 - val_loss: 3.8857 - val_accuracy: 0.1690\n",
            "Epoch 2/5\n",
            "157/157 [==============================] - 8s 53ms/step - loss: 1.7513 - accuracy: 0.3506 - val_loss: 1.7917 - val_accuracy: 0.3106\n",
            "Epoch 3/5\n",
            "157/157 [==============================] - 8s 50ms/step - loss: 1.6216 - accuracy: 0.4072 - val_loss: 2.3396 - val_accuracy: 0.3070\n",
            "Epoch 4/5\n",
            "157/157 [==============================] - 11s 68ms/step - loss: 1.4819 - accuracy: 0.4608 - val_loss: 1.6203 - val_accuracy: 0.4430\n",
            "Epoch 5/5\n",
            "157/157 [==============================] - 9s 55ms/step - loss: 1.4000 - accuracy: 0.4958 - val_loss: 1.8433 - val_accuracy: 0.3670\n"
          ]
        },
        {
          "data": {
            "text/plain": [
              "<keras.callbacks.History at 0x7f77d21c0370>"
            ]
          },
          "execution_count": 16,
          "metadata": {},
          "output_type": "execute_result"
        }
      ],
      "source": [
        "model = ResNet34()\n",
        "model.compile(optimizer = 'adam', loss='sparse_categorical_crossentropy', metrics = ['accuracy'])\n",
        "model.fit(x_train,y_train, validation_data=(x_test,y_test), epochs=5)\n"
      ]
    },
    {
      "cell_type": "code",
      "execution_count": null,
      "metadata": {
        "id": "fJwY1RMoo9DC"
      },
      "outputs": [],
      "source": [
        "def ResNetModified(shape = (32, 32, 3), classes = 10):\n",
        "  \n",
        "    # Step 1 (Setup Input Layer)\n",
        "    x_input = tf.keras.layers.Input(shape)\n",
        "    x = tf.keras.layers.ZeroPadding2D((3, 3))(x_input)\n",
        "    \n",
        "    # Step 2 (Initial Conv layer along with maxPool)\n",
        "    x = tf.keras.layers.BatchNormalization()(x)\n",
        "    x = tf.keras.layers.Activation('relu')(x)\n",
        "    x = tf.keras.layers.Conv2D(64, kernel_size=7, strides=2, padding='same')(x)\n",
        "    x = tf.keras.layers.MaxPool2D(pool_size=3, strides=2, padding='same')(x)\n",
        "    \n",
        "    # Define size of sub-blocks and initial filter size\n",
        "    block_layers = [3, 4, 6, 3]\n",
        "    filter_size = 64\n",
        "    \n",
        "    # Step 3 Add the Resnet Blocks\n",
        "    for i in range(4):\n",
        "        if i == 0:\n",
        "            # For sub-block 1 Residual/Convolutional block not needed\n",
        "            for j in range(block_layers[i]):\n",
        "                x = identity_block(x, filter_size)\n",
        "        else:\n",
        "            # One Residual/Convolutional Block followed by Identity blocks\n",
        "            filter_size = filter_size*2\n",
        "            x = convolutional_block(x, filter_size)\n",
        "            for j in range(block_layers[i] - 1):\n",
        "                x = identity_block(x, filter_size)\n",
        "          \n",
        "    # Step 4 End Dense Network\n",
        "    x = tf.keras.layers.AveragePooling2D((2,2), padding = 'same')(x)\n",
        "    x = tf.keras.layers.Flatten()(x)\n",
        "    x = tf.keras.layers.Dense(512, activation = 'relu')(x)\n",
        "    x = tf.keras.layers.Dense(classes, activation = 'softmax')(x)\n",
        "    \n",
        "    model = tf.keras.models.Model(inputs = x_input, outputs = x, name = \"ResNet34\")\n",
        "    return model"
      ]
    },
    {
      "cell_type": "code",
      "execution_count": null,
      "metadata": {
        "colab": {
          "base_uri": "https://localhost:8080/"
        },
        "id": "FzZ2lryhpUq7",
        "outputId": "b952bb09-b810-47fc-8421-7ac8ddfc5a20"
      },
      "outputs": [
        {
          "name": "stdout",
          "output_type": "stream",
          "text": [
            "Epoch 1/5\n",
            "157/157 [==============================] - 12s 54ms/step - loss: 2.1916 - accuracy: 0.2200 - val_loss: 2.3757 - val_accuracy: 0.1774\n",
            "Epoch 2/5\n",
            "157/157 [==============================] - 8s 54ms/step - loss: 1.8630 - accuracy: 0.3024 - val_loss: 1.9792 - val_accuracy: 0.2788\n",
            "Epoch 3/5\n",
            "157/157 [==============================] - 8s 49ms/step - loss: 1.7269 - accuracy: 0.3502 - val_loss: 3.2479 - val_accuracy: 0.2224\n",
            "Epoch 4/5\n",
            "157/157 [==============================] - 8s 50ms/step - loss: 1.6298 - accuracy: 0.3930 - val_loss: 2.0110 - val_accuracy: 0.3338\n",
            "Epoch 5/5\n",
            "157/157 [==============================] - 8s 50ms/step - loss: 1.5535 - accuracy: 0.4320 - val_loss: 1.9599 - val_accuracy: 0.3656\n"
          ]
        },
        {
          "data": {
            "text/plain": [
              "<keras.callbacks.History at 0x7f795c249250>"
            ]
          },
          "execution_count": 18,
          "metadata": {},
          "output_type": "execute_result"
        }
      ],
      "source": [
        "model = ResNetModified()\n",
        "model.compile(optimizer = 'adam', loss='sparse_categorical_crossentropy', metrics = ['accuracy'])\n",
        "model.fit(x_train, y_train, validation_data=(x_test, y_test), epochs=5)"
      ]
    },
    {
      "cell_type": "markdown",
      "metadata": {},
      "source": [
        "### A principio não dá para se ver uma diferença significativa no desempenho da rede, mas é possível que com mais épocas de treinamento a diferença seja mais significativa."
      ]
    }
  ],
  "metadata": {
    "accelerator": "GPU",
    "colab": {
      "provenance": []
    },
    "gpuClass": "standard",
    "kernelspec": {
      "display_name": "Python 3.10.8 64-bit",
      "language": "python",
      "name": "python3"
    },
    "language_info": {
      "name": "python",
      "version": "3.10.8"
    },
    "vscode": {
      "interpreter": {
        "hash": "e7370f93d1d0cde622a1f8e1c04877d8463912d04d973331ad4851f04de6915a"
      }
    }
  },
  "nbformat": 4,
  "nbformat_minor": 0
}
